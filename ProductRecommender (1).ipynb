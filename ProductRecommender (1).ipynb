{
  "nbformat": 4,
  "nbformat_minor": 0,
  "metadata": {
    "colab": {
      "name": "ProductRecommender",
      "provenance": [],
      "collapsed_sections": []
    },
    "kernelspec": {
      "name": "python3",
      "display_name": "Python 3"
    }
  },
  "cells": [
    {
      "cell_type": "code",
      "metadata": {
        "id": "dkECbxGPoKnA",
        "colab_type": "code",
        "colab": {}
      },
      "source": [
        "import pandas as pd\n",
        "import os"
      ],
      "execution_count": 0,
      "outputs": []
    },
    {
      "cell_type": "code",
      "metadata": {
        "id": "mItkKjV6ht1s",
        "colab_type": "code",
        "colab": {}
      },
      "source": [
        "\"\"\"\n",
        "Process Read Files\n",
        "\n",
        "\"\"\"\n",
        "root_path = '/content/'\n",
        "orders = pd.read_csv(os.path.join(root_path,'orders.csv'))\n",
        "products = pd.read_csv(os.path.join(root_path,'products.csv'))\n",
        "users = pd.read_csv(os.path.join(root_path,'users.csv'))\n"
      ],
      "execution_count": 0,
      "outputs": []
    },
    {
      "cell_type": "code",
      "metadata": {
        "id": "pt2u2ldDvbAr",
        "colab_type": "code",
        "colab": {
          "base_uri": "https://localhost:8080/",
          "height": 197
        },
        "outputId": "3d07baef-d481-4373-aceb-dea5a411dfb6"
      },
      "source": [
        "#Here are all the users from the users table\n",
        "users.head()"
      ],
      "execution_count": 5,
      "outputs": [
        {
          "output_type": "execute_result",
          "data": {
            "text/html": [
              "<div>\n",
              "<style scoped>\n",
              "    .dataframe tbody tr th:only-of-type {\n",
              "        vertical-align: middle;\n",
              "    }\n",
              "\n",
              "    .dataframe tbody tr th {\n",
              "        vertical-align: top;\n",
              "    }\n",
              "\n",
              "    .dataframe thead th {\n",
              "        text-align: right;\n",
              "    }\n",
              "</style>\n",
              "<table border=\"1\" class=\"dataframe\">\n",
              "  <thead>\n",
              "    <tr style=\"text-align: right;\">\n",
              "      <th></th>\n",
              "      <th>user_id</th>\n",
              "      <th>user_name</th>\n",
              "      <th>location</th>\n",
              "    </tr>\n",
              "  </thead>\n",
              "  <tbody>\n",
              "    <tr>\n",
              "      <th>0</th>\n",
              "      <td>1</td>\n",
              "      <td>Udit</td>\n",
              "      <td>Health Sciences</td>\n",
              "    </tr>\n",
              "    <tr>\n",
              "      <th>1</th>\n",
              "      <td>2</td>\n",
              "      <td>David</td>\n",
              "      <td>Port Jefferson</td>\n",
              "    </tr>\n",
              "    <tr>\n",
              "      <th>2</th>\n",
              "      <td>3</td>\n",
              "      <td>Kate</td>\n",
              "      <td>Port Jefferson</td>\n",
              "    </tr>\n",
              "    <tr>\n",
              "      <th>3</th>\n",
              "      <td>4</td>\n",
              "      <td>KJ</td>\n",
              "      <td>Port Jefferson</td>\n",
              "    </tr>\n",
              "    <tr>\n",
              "      <th>4</th>\n",
              "      <td>5</td>\n",
              "      <td>Jene</td>\n",
              "      <td>GNYC</td>\n",
              "    </tr>\n",
              "  </tbody>\n",
              "</table>\n",
              "</div>"
            ],
            "text/plain": [
              "   user_id user_name         location\n",
              "0        1      Udit  Health Sciences\n",
              "1        2     David   Port Jefferson\n",
              "2        3      Kate   Port Jefferson\n",
              "3        4        KJ   Port Jefferson\n",
              "4        5      Jene             GNYC"
            ]
          },
          "metadata": {
            "tags": []
          },
          "execution_count": 5
        }
      ]
    },
    {
      "cell_type": "code",
      "metadata": {
        "id": "rVrbRwjkpQav",
        "colab_type": "code",
        "colab": {}
      },
      "source": [
        "# The query from the system: User with ID 2 is trying to buy something in the category \"clothes\" and has location as \"Smithaven\"\n",
        "user_id = 2\n",
        "user_category = 'clothes'\n",
        "user_location = 'Smithaven'"
      ],
      "execution_count": 0,
      "outputs": []
    },
    {
      "cell_type": "code",
      "metadata": {
        "id": "lBVKfNL3h_eL",
        "colab_type": "code",
        "colab": {}
      },
      "source": [
        "#Find all the products that were bought by this user in the past by lookup in orders table.\n",
        "products_bought_in_past = orders[orders['user_id'] == user_id]['product_id']"
      ],
      "execution_count": 0,
      "outputs": []
    },
    {
      "cell_type": "code",
      "metadata": {
        "id": "2Y0MzVRGvsjW",
        "colab_type": "code",
        "colab": {
          "base_uri": "https://localhost:8080/",
          "height": 66
        },
        "outputId": "ee8de166-c305-41bf-df50-38312c23d09c"
      },
      "source": [
        "#Visualizing the list of products bought by this user in the past\n",
        "products_bought_in_past.head()"
      ],
      "execution_count": 8,
      "outputs": [
        {
          "output_type": "execute_result",
          "data": {
            "text/plain": [
              "12     8\n",
              "22    14\n",
              "Name: product_id, dtype: int64"
            ]
          },
          "metadata": {
            "tags": []
          },
          "execution_count": 8
        }
      ]
    },
    {
      "cell_type": "code",
      "metadata": {
        "id": "RI92KMjph_ZT",
        "colab_type": "code",
        "colab": {}
      },
      "source": [
        "#Find users that have bought the same products as the original user in the past.\n",
        "related_users = orders[orders.product_id.isin(products_bought_in_past)]"
      ],
      "execution_count": 0,
      "outputs": []
    },
    {
      "cell_type": "code",
      "metadata": {
        "id": "Mjf9YBznwFqT",
        "colab_type": "code",
        "colab": {
          "base_uri": "https://localhost:8080/",
          "height": 197
        },
        "outputId": "47a4ab97-a4db-45b8-c191-2487d90ca373"
      },
      "source": [
        "#Visualizing list of related users and what orders they placed in the past\n",
        "related_users.head()"
      ],
      "execution_count": 10,
      "outputs": [
        {
          "output_type": "execute_result",
          "data": {
            "text/html": [
              "<div>\n",
              "<style scoped>\n",
              "    .dataframe tbody tr th:only-of-type {\n",
              "        vertical-align: middle;\n",
              "    }\n",
              "\n",
              "    .dataframe tbody tr th {\n",
              "        vertical-align: top;\n",
              "    }\n",
              "\n",
              "    .dataframe thead th {\n",
              "        text-align: right;\n",
              "    }\n",
              "</style>\n",
              "<table border=\"1\" class=\"dataframe\">\n",
              "  <thead>\n",
              "    <tr style=\"text-align: right;\">\n",
              "      <th></th>\n",
              "      <th>order_id</th>\n",
              "      <th>user_id</th>\n",
              "      <th>product_id</th>\n",
              "    </tr>\n",
              "  </thead>\n",
              "  <tbody>\n",
              "    <tr>\n",
              "      <th>3</th>\n",
              "      <td>4</td>\n",
              "      <td>7</td>\n",
              "      <td>8</td>\n",
              "    </tr>\n",
              "    <tr>\n",
              "      <th>12</th>\n",
              "      <td>13</td>\n",
              "      <td>2</td>\n",
              "      <td>8</td>\n",
              "    </tr>\n",
              "    <tr>\n",
              "      <th>20</th>\n",
              "      <td>21</td>\n",
              "      <td>6</td>\n",
              "      <td>8</td>\n",
              "    </tr>\n",
              "    <tr>\n",
              "      <th>22</th>\n",
              "      <td>23</td>\n",
              "      <td>2</td>\n",
              "      <td>14</td>\n",
              "    </tr>\n",
              "    <tr>\n",
              "      <th>34</th>\n",
              "      <td>35</td>\n",
              "      <td>5</td>\n",
              "      <td>8</td>\n",
              "    </tr>\n",
              "  </tbody>\n",
              "</table>\n",
              "</div>"
            ],
            "text/plain": [
              "    order_id  user_id  product_id\n",
              "3          4        7           8\n",
              "12        13        2           8\n",
              "20        21        6           8\n",
              "22        23        2          14\n",
              "34        35        5           8"
            ]
          },
          "metadata": {
            "tags": []
          },
          "execution_count": 10
        }
      ]
    },
    {
      "cell_type": "code",
      "metadata": {
        "id": "rGzhumd8h_VO",
        "colab_type": "code",
        "colab": {}
      },
      "source": [
        "# Filter only the product information of the items these userId's have bought in the selected category\n",
        "similar_products_from_other_users = orders[orders['user_id'].isin(related_users['user_id'])]['product_id']"
      ],
      "execution_count": 0,
      "outputs": []
    },
    {
      "cell_type": "code",
      "metadata": {
        "id": "nqMZvkHA2JEB",
        "colab_type": "code",
        "colab": {
          "base_uri": "https://localhost:8080/",
          "height": 116
        },
        "outputId": "19f51ca2-d006-4806-b7a1-95609155dc1e"
      },
      "source": [
        "#Visualizing product ids of products bought by matched users in the past.\n",
        "similar_products_from_other_users.head()"
      ],
      "execution_count": 12,
      "outputs": [
        {
          "output_type": "execute_result",
          "data": {
            "text/plain": [
              "2     4\n",
              "3     8\n",
              "6     6\n",
              "12    8\n",
              "13    7\n",
              "Name: product_id, dtype: int64"
            ]
          },
          "metadata": {
            "tags": []
          },
          "execution_count": 12
        }
      ]
    },
    {
      "cell_type": "code",
      "metadata": {
        "id": "wjiLSjJ6h_Sn",
        "colab_type": "code",
        "colab": {}
      },
      "source": [
        "#Joining products table with above table to find the complete information for the related products\n",
        "recommended_products = pd.merge(products,similar_products_from_other_users,on='product_id')"
      ],
      "execution_count": 0,
      "outputs": []
    },
    {
      "cell_type": "code",
      "metadata": {
        "id": "icRn1JlXzFht",
        "colab_type": "code",
        "colab": {
          "base_uri": "https://localhost:8080/",
          "height": 197
        },
        "outputId": "16f4d660-add9-43d2-f025-75e7bf3b3e58"
      },
      "source": [
        "#Visualizing products bought by users with same taste as orginal user.\n",
        "recommended_products.head()"
      ],
      "execution_count": 14,
      "outputs": [
        {
          "output_type": "execute_result",
          "data": {
            "text/html": [
              "<div>\n",
              "<style scoped>\n",
              "    .dataframe tbody tr th:only-of-type {\n",
              "        vertical-align: middle;\n",
              "    }\n",
              "\n",
              "    .dataframe tbody tr th {\n",
              "        vertical-align: top;\n",
              "    }\n",
              "\n",
              "    .dataframe thead th {\n",
              "        text-align: right;\n",
              "    }\n",
              "</style>\n",
              "<table border=\"1\" class=\"dataframe\">\n",
              "  <thead>\n",
              "    <tr style=\"text-align: right;\">\n",
              "      <th></th>\n",
              "      <th>product_id</th>\n",
              "      <th>product_name</th>\n",
              "      <th>store_location</th>\n",
              "      <th>store</th>\n",
              "      <th>discounts</th>\n",
              "      <th>price</th>\n",
              "      <th>shipping_time</th>\n",
              "      <th>category</th>\n",
              "    </tr>\n",
              "  </thead>\n",
              "  <tbody>\n",
              "    <tr>\n",
              "      <th>0</th>\n",
              "      <td>1</td>\n",
              "      <td>LP Shirt</td>\n",
              "      <td>Smithaven</td>\n",
              "      <td>Smithaven Mall</td>\n",
              "      <td>20.0</td>\n",
              "      <td>10.0</td>\n",
              "      <td>3</td>\n",
              "      <td>clothes</td>\n",
              "    </tr>\n",
              "    <tr>\n",
              "      <th>1</th>\n",
              "      <td>2</td>\n",
              "      <td>Hard Drive</td>\n",
              "      <td>Smithaven</td>\n",
              "      <td>BestBuy</td>\n",
              "      <td>0.0</td>\n",
              "      <td>33.0</td>\n",
              "      <td>2</td>\n",
              "      <td>storage</td>\n",
              "    </tr>\n",
              "    <tr>\n",
              "      <th>2</th>\n",
              "      <td>4</td>\n",
              "      <td>Dell XPS 14</td>\n",
              "      <td>Smithaven</td>\n",
              "      <td>BestBuy</td>\n",
              "      <td>10.0</td>\n",
              "      <td>999.0</td>\n",
              "      <td>2</td>\n",
              "      <td>laptop</td>\n",
              "    </tr>\n",
              "    <tr>\n",
              "      <th>3</th>\n",
              "      <td>4</td>\n",
              "      <td>Dell XPS 14</td>\n",
              "      <td>Smithaven</td>\n",
              "      <td>BestBuy</td>\n",
              "      <td>10.0</td>\n",
              "      <td>999.0</td>\n",
              "      <td>2</td>\n",
              "      <td>laptop</td>\n",
              "    </tr>\n",
              "    <tr>\n",
              "      <th>4</th>\n",
              "      <td>6</td>\n",
              "      <td>Levis Jeans</td>\n",
              "      <td>Smithaven</td>\n",
              "      <td>Smithaven Mall</td>\n",
              "      <td>5.0</td>\n",
              "      <td>45.0</td>\n",
              "      <td>5</td>\n",
              "      <td>clothes</td>\n",
              "    </tr>\n",
              "  </tbody>\n",
              "</table>\n",
              "</div>"
            ],
            "text/plain": [
              "   product_id product_name store_location  ...  price  shipping_time  category\n",
              "0           1     LP Shirt      Smithaven  ...   10.0              3   clothes\n",
              "1           2   Hard Drive      Smithaven  ...   33.0              2   storage\n",
              "2           4  Dell XPS 14      Smithaven  ...  999.0              2    laptop\n",
              "3           4  Dell XPS 14      Smithaven  ...  999.0              2    laptop\n",
              "4           6  Levis Jeans      Smithaven  ...   45.0              5   clothes\n",
              "\n",
              "[5 rows x 8 columns]"
            ]
          },
          "metadata": {
            "tags": []
          },
          "execution_count": 14
        }
      ]
    },
    {
      "cell_type": "code",
      "metadata": {
        "id": "m0sI0ds7eo3m",
        "colab_type": "code",
        "colab": {}
      },
      "source": [
        "#Filter products with only the category that user queried for\n",
        "recommended_products = recommended_products[recommended_products['category'] == user_category]"
      ],
      "execution_count": 0,
      "outputs": []
    },
    {
      "cell_type": "code",
      "metadata": {
        "id": "J7NXGWNgh_PQ",
        "colab_type": "code",
        "colab": {}
      },
      "source": [
        "#Filter the products available in the user area\n",
        "recommended_products = recommended_products[recommended_products['store_location'] == user_location]"
      ],
      "execution_count": 0,
      "outputs": []
    },
    {
      "cell_type": "code",
      "metadata": {
        "id": "5EmjNp2Ezh7L",
        "colab_type": "code",
        "colab": {
          "base_uri": "https://localhost:8080/",
          "height": 287
        },
        "outputId": "12421c91-2f36-4f30-9108-9db5b5ad8568"
      },
      "source": [
        "recommended_products.head(10)"
      ],
      "execution_count": 17,
      "outputs": [
        {
          "output_type": "execute_result",
          "data": {
            "text/html": [
              "<div>\n",
              "<style scoped>\n",
              "    .dataframe tbody tr th:only-of-type {\n",
              "        vertical-align: middle;\n",
              "    }\n",
              "\n",
              "    .dataframe tbody tr th {\n",
              "        vertical-align: top;\n",
              "    }\n",
              "\n",
              "    .dataframe thead th {\n",
              "        text-align: right;\n",
              "    }\n",
              "</style>\n",
              "<table border=\"1\" class=\"dataframe\">\n",
              "  <thead>\n",
              "    <tr style=\"text-align: right;\">\n",
              "      <th></th>\n",
              "      <th>product_id</th>\n",
              "      <th>product_name</th>\n",
              "      <th>store_location</th>\n",
              "      <th>store</th>\n",
              "      <th>discounts</th>\n",
              "      <th>price</th>\n",
              "      <th>shipping_time</th>\n",
              "      <th>category</th>\n",
              "    </tr>\n",
              "  </thead>\n",
              "  <tbody>\n",
              "    <tr>\n",
              "      <th>0</th>\n",
              "      <td>1</td>\n",
              "      <td>LP Shirt</td>\n",
              "      <td>Smithaven</td>\n",
              "      <td>Smithaven Mall</td>\n",
              "      <td>20.0</td>\n",
              "      <td>10.0</td>\n",
              "      <td>3</td>\n",
              "      <td>clothes</td>\n",
              "    </tr>\n",
              "    <tr>\n",
              "      <th>4</th>\n",
              "      <td>6</td>\n",
              "      <td>Levis Jeans</td>\n",
              "      <td>Smithaven</td>\n",
              "      <td>Smithaven Mall</td>\n",
              "      <td>5.0</td>\n",
              "      <td>45.0</td>\n",
              "      <td>5</td>\n",
              "      <td>clothes</td>\n",
              "    </tr>\n",
              "    <tr>\n",
              "      <th>5</th>\n",
              "      <td>6</td>\n",
              "      <td>Levis Jeans</td>\n",
              "      <td>Smithaven</td>\n",
              "      <td>Smithaven Mall</td>\n",
              "      <td>5.0</td>\n",
              "      <td>45.0</td>\n",
              "      <td>5</td>\n",
              "      <td>clothes</td>\n",
              "    </tr>\n",
              "    <tr>\n",
              "      <th>6</th>\n",
              "      <td>7</td>\n",
              "      <td>Tommy Hilfiger T Shirt</td>\n",
              "      <td>Smithaven</td>\n",
              "      <td>Smithaven Mall</td>\n",
              "      <td>0.0</td>\n",
              "      <td>15.0</td>\n",
              "      <td>2</td>\n",
              "      <td>clothes</td>\n",
              "    </tr>\n",
              "    <tr>\n",
              "      <th>7</th>\n",
              "      <td>8</td>\n",
              "      <td>GAP Black Jacket</td>\n",
              "      <td>Smithaven</td>\n",
              "      <td>Smithaven Mall</td>\n",
              "      <td>0.0</td>\n",
              "      <td>70.0</td>\n",
              "      <td>3</td>\n",
              "      <td>clothes</td>\n",
              "    </tr>\n",
              "    <tr>\n",
              "      <th>8</th>\n",
              "      <td>8</td>\n",
              "      <td>GAP Black Jacket</td>\n",
              "      <td>Smithaven</td>\n",
              "      <td>Smithaven Mall</td>\n",
              "      <td>0.0</td>\n",
              "      <td>70.0</td>\n",
              "      <td>3</td>\n",
              "      <td>clothes</td>\n",
              "    </tr>\n",
              "    <tr>\n",
              "      <th>9</th>\n",
              "      <td>8</td>\n",
              "      <td>GAP Black Jacket</td>\n",
              "      <td>Smithaven</td>\n",
              "      <td>Smithaven Mall</td>\n",
              "      <td>0.0</td>\n",
              "      <td>70.0</td>\n",
              "      <td>3</td>\n",
              "      <td>clothes</td>\n",
              "    </tr>\n",
              "    <tr>\n",
              "      <th>10</th>\n",
              "      <td>8</td>\n",
              "      <td>GAP Black Jacket</td>\n",
              "      <td>Smithaven</td>\n",
              "      <td>Smithaven Mall</td>\n",
              "      <td>0.0</td>\n",
              "      <td>70.0</td>\n",
              "      <td>3</td>\n",
              "      <td>clothes</td>\n",
              "    </tr>\n",
              "  </tbody>\n",
              "</table>\n",
              "</div>"
            ],
            "text/plain": [
              "    product_id            product_name  ... shipping_time category\n",
              "0            1                LP Shirt  ...             3  clothes\n",
              "4            6             Levis Jeans  ...             5  clothes\n",
              "5            6             Levis Jeans  ...             5  clothes\n",
              "6            7  Tommy Hilfiger T Shirt  ...             2  clothes\n",
              "7            8        GAP Black Jacket  ...             3  clothes\n",
              "8            8        GAP Black Jacket  ...             3  clothes\n",
              "9            8        GAP Black Jacket  ...             3  clothes\n",
              "10           8        GAP Black Jacket  ...             3  clothes\n",
              "\n",
              "[8 rows x 8 columns]"
            ]
          },
          "metadata": {
            "tags": []
          },
          "execution_count": 17
        }
      ]
    },
    {
      "cell_type": "code",
      "metadata": {
        "id": "0yicuLs3t4SS",
        "colab_type": "code",
        "colab": {}
      },
      "source": [
        "#Group same products together to see what products were bought the most as per their counts in the table\n",
        "recommended_products_grouped = recommended_products.groupby('product_id').size().reset_index(name='counts')"
      ],
      "execution_count": 0,
      "outputs": []
    },
    {
      "cell_type": "code",
      "metadata": {
        "id": "KqezYL2p1WmX",
        "colab_type": "code",
        "colab": {}
      },
      "source": [
        "#Fetching top 3 most sought after products in the area\n",
        "recommended_products_grouped = recommended_products_grouped.nlargest(3,'counts')"
      ],
      "execution_count": 0,
      "outputs": []
    },
    {
      "cell_type": "code",
      "metadata": {
        "id": "_mswXDQC5G10",
        "colab_type": "code",
        "colab": {
          "base_uri": "https://localhost:8080/",
          "height": 137
        },
        "outputId": "b2ccba64-897f-457d-e0eb-ef38a258862d"
      },
      "source": [
        "#Visualizing top 3 most sought after products ids that will be recommended to the user.\n",
        "recommended_products_grouped.head()"
      ],
      "execution_count": 20,
      "outputs": [
        {
          "output_type": "execute_result",
          "data": {
            "text/html": [
              "<div>\n",
              "<style scoped>\n",
              "    .dataframe tbody tr th:only-of-type {\n",
              "        vertical-align: middle;\n",
              "    }\n",
              "\n",
              "    .dataframe tbody tr th {\n",
              "        vertical-align: top;\n",
              "    }\n",
              "\n",
              "    .dataframe thead th {\n",
              "        text-align: right;\n",
              "    }\n",
              "</style>\n",
              "<table border=\"1\" class=\"dataframe\">\n",
              "  <thead>\n",
              "    <tr style=\"text-align: right;\">\n",
              "      <th></th>\n",
              "      <th>product_id</th>\n",
              "      <th>counts</th>\n",
              "    </tr>\n",
              "  </thead>\n",
              "  <tbody>\n",
              "    <tr>\n",
              "      <th>3</th>\n",
              "      <td>8</td>\n",
              "      <td>4</td>\n",
              "    </tr>\n",
              "    <tr>\n",
              "      <th>1</th>\n",
              "      <td>6</td>\n",
              "      <td>2</td>\n",
              "    </tr>\n",
              "    <tr>\n",
              "      <th>0</th>\n",
              "      <td>1</td>\n",
              "      <td>1</td>\n",
              "    </tr>\n",
              "  </tbody>\n",
              "</table>\n",
              "</div>"
            ],
            "text/plain": [
              "   product_id  counts\n",
              "3           8       4\n",
              "1           6       2\n",
              "0           1       1"
            ]
          },
          "metadata": {
            "tags": []
          },
          "execution_count": 20
        }
      ]
    },
    {
      "cell_type": "code",
      "metadata": {
        "id": "zs2P5YAwh_Ky",
        "colab_type": "code",
        "colab": {}
      },
      "source": [
        "#Generating recommendations for this user\n",
        "final_dataframe = products[products['product_id'].isin(recommended_products_grouped['product_id'])]"
      ],
      "execution_count": 0,
      "outputs": []
    },
    {
      "cell_type": "code",
      "metadata": {
        "id": "szZx7QHSh_Hz",
        "colab_type": "code",
        "colab": {
          "base_uri": "https://localhost:8080/",
          "height": 137
        },
        "outputId": "46a4713d-3ed3-48f0-8070-c7d8e5d79828"
      },
      "source": [
        "#Displaying all the receommended products to this user\n",
        "final_dataframe.head()"
      ],
      "execution_count": 22,
      "outputs": [
        {
          "output_type": "execute_result",
          "data": {
            "text/html": [
              "<div>\n",
              "<style scoped>\n",
              "    .dataframe tbody tr th:only-of-type {\n",
              "        vertical-align: middle;\n",
              "    }\n",
              "\n",
              "    .dataframe tbody tr th {\n",
              "        vertical-align: top;\n",
              "    }\n",
              "\n",
              "    .dataframe thead th {\n",
              "        text-align: right;\n",
              "    }\n",
              "</style>\n",
              "<table border=\"1\" class=\"dataframe\">\n",
              "  <thead>\n",
              "    <tr style=\"text-align: right;\">\n",
              "      <th></th>\n",
              "      <th>product_id</th>\n",
              "      <th>product_name</th>\n",
              "      <th>store_location</th>\n",
              "      <th>store</th>\n",
              "      <th>discounts</th>\n",
              "      <th>price</th>\n",
              "      <th>shipping_time</th>\n",
              "      <th>category</th>\n",
              "    </tr>\n",
              "  </thead>\n",
              "  <tbody>\n",
              "    <tr>\n",
              "      <th>0</th>\n",
              "      <td>1</td>\n",
              "      <td>LP Shirt</td>\n",
              "      <td>Smithaven</td>\n",
              "      <td>Smithaven Mall</td>\n",
              "      <td>20.0</td>\n",
              "      <td>10.0</td>\n",
              "      <td>3</td>\n",
              "      <td>clothes</td>\n",
              "    </tr>\n",
              "    <tr>\n",
              "      <th>5</th>\n",
              "      <td>6</td>\n",
              "      <td>Levis Jeans</td>\n",
              "      <td>Smithaven</td>\n",
              "      <td>Smithaven Mall</td>\n",
              "      <td>5.0</td>\n",
              "      <td>45.0</td>\n",
              "      <td>5</td>\n",
              "      <td>clothes</td>\n",
              "    </tr>\n",
              "    <tr>\n",
              "      <th>7</th>\n",
              "      <td>8</td>\n",
              "      <td>GAP Black Jacket</td>\n",
              "      <td>Smithaven</td>\n",
              "      <td>Smithaven Mall</td>\n",
              "      <td>0.0</td>\n",
              "      <td>70.0</td>\n",
              "      <td>3</td>\n",
              "      <td>clothes</td>\n",
              "    </tr>\n",
              "  </tbody>\n",
              "</table>\n",
              "</div>"
            ],
            "text/plain": [
              "   product_id      product_name store_location  ... price  shipping_time  category\n",
              "0           1          LP Shirt      Smithaven  ...  10.0              3   clothes\n",
              "5           6       Levis Jeans      Smithaven  ...  45.0              5   clothes\n",
              "7           8  GAP Black Jacket      Smithaven  ...  70.0              3   clothes\n",
              "\n",
              "[3 rows x 8 columns]"
            ]
          },
          "metadata": {
            "tags": []
          },
          "execution_count": 22
        }
      ]
    },
    {
      "cell_type": "code",
      "metadata": {
        "id": "IWIYWYUbfATG",
        "colab_type": "code",
        "colab": {}
      },
      "source": [
        ""
      ],
      "execution_count": 0,
      "outputs": []
    }
  ]
}